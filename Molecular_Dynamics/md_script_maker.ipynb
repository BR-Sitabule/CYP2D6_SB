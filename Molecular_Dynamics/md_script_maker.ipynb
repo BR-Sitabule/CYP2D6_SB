{
 "cells": [
  {
   "cell_type": "code",
   "execution_count": 4,
   "metadata": {},
   "outputs": [],
   "source": [
    "for i in {\"WT\",\"L91M\",\"P267H\",\"R365H\",\"T107I\",\"V104M\",\"V119L\",\"V136I\",\"V338M\",\"Y355C\",\"S486T\",\"P34S\"}:\n",
    "    # Read in the file\n",
    "    with open ('combine_CYP2D6_VAR.pbs', 'r') as file :\n",
    "      filedata = file.read()\n",
    "\n",
    "    # Replace the target string\n",
    "    filedata = filedata.replace('VAR', str(i))\n",
    "    #prev = (i-200)\n",
    "    #filedata = filedata.replace('PREV', str(prev))\n",
    "    # Write the file out again\n",
    "    with open('combine_CYP2D6_%s.pbs' % i, 'w') as file:\n",
    "      file.write(filedata)"
   ]
  },
  {
   "cell_type": "code",
   "execution_count": 2,
   "metadata": {},
   "outputs": [],
   "source": [
    "for j in {\"WT\",\"L91M\",\"P267H\",\"R365H\",\"T107I\",\"V104M\",\"V119L\",\"V136I\",\"V338M\",\"Y355C\",\"S486T\",\"P34S\"}:\n",
    "    for i in {140,210,280,350,420,490}:\n",
    "        # Read in the file\n",
    "        with open('../Production_variants/Production_VAR_SiTns.pbs', 'r') as file :\n",
    "          filedata = file.read()\n",
    "\n",
    "        # Replace the target string\n",
    "        filedata = filedata.replace('VAR', str(j))\n",
    "        filedata = filedata.replace('SiT', str(i))\n",
    "        prev = (i-70)\n",
    "        filedata = filedata.replace('PREV', str(prev))\n",
    "        # Write the file out again\n",
    "        with open('md_%s_%sns.pbs' % (j,i), 'w') as file:\n",
    "          file.write(filedata)"
   ]
  },
  {
   "cell_type": "code",
   "execution_count": 4,
   "metadata": {},
   "outputs": [],
   "source": [
    "for j in {\"WT\",\"L91M\",\"P267H\",\"R365H\",\"T107I\",\"V104M\",\"V119L\",\"V136I\",\"V338M\",\"Y355C\",\"S486T\",\"P34S\"}:\n",
    "    for i in {500}:\n",
    "        # Read in the file\n",
    "        with open('../Production_variants/Production_VAR_SiTns.pbs', 'r') as file :\n",
    "          filedata = file.read()\n",
    "\n",
    "        # Replace the target string\n",
    "        filedata = filedata.replace('VAR', str(j))\n",
    "        filedata = filedata.replace('SiT', str(i))\n",
    "        prev = (i-70)\n",
    "        filedata = filedata.replace('PREV', str(prev))\n",
    "        # Write the file out again\n",
    "        with open('md_%s_%sns.pbs' % (j,i), 'w') as file:\n",
    "          file.write(filedata)"
   ]
  }
