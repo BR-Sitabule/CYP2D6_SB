{
 "cells": [
  {
   "cell_type": "code",
   "execution_count": 4,
   "metadata": {},
   "outputs": [],
   "source": [
    "for i in {\"L91M\",\"P267H\",\"R365H\",\"T107I\",\"V104M\",\"V119L\",\"V136I\",\"V338M\",\"Y355C\",\"S486T\",\"P34S\"}:\n",
    "    # Read in the file\n",
    "    with open ('combine_CYP2D6_VAR.pbs', 'r') as file :\n",
    "      filedata = file.read()\n",
    "\n",
    "    # Replace the target string\n",
    "    filedata = filedata.replace('VAR', str(i))\n",
    "    #prev = (i-200)\n",
    "    #filedata = filedata.replace('PREV', str(prev))\n",
    "    # Write the file out again\n",
    "    with open('combine_CYP2D6_%s.pbs' % i, 'w') as file:\n",
    "      file.write(filedata)"
   ]
  },
  {
   "cell_type": "code",
   "execution_count": 2,
   "metadata": {},
   "outputs": [],
   "source": [
    "for j in { \"P267H\",\"R365H\",\"T107I\",\"V104M\",\"V119L\",\"V136I\",\"V338M\"}:\n",
    "    for i in {140,210,280,350,420,490}:\n",
    "        # Read in the file\n",
    "        with open('../Production_variants/Production_VAR_SiTns.pbs', 'r') as file :\n",
    "          filedata = file.read()\n",
    "\n",
    "        # Replace the target string\n",
    "        filedata = filedata.replace('VAR', str(j))\n",
    "        filedata = filedata.replace('SiT', str(i))\n",
    "        prev = (i-70)\n",
    "        filedata = filedata.replace('PREV', str(prev))\n",
    "        # Write the file out again\n",
    "        with open('md_%s_%sns.pbs' % (j,i), 'w') as file:\n",
    "          file.write(filedata)"
   ]
  },
  {
   "cell_type": "code",
   "execution_count": 4,
   "metadata": {},
   "outputs": [],
   "source": [
    "for j in {\"P267H\",\"R365H\",\"T107I\",\"V104M\",\"V119L\",\"V136I\",\"V338M\"}:\n",
    "    for i in {500}:\n",
    "        # Read in the file\n",
    "        with open('../Production_variants/Production_VAR_SiTns.pbs', 'r') as file :\n",
    "          filedata = file.read()\n",
    "\n",
    "        # Replace the target string\n",
    "        filedata = filedata.replace('VAR', str(j))\n",
    "        filedata = filedata.replace('SiT', str(i))\n",
    "        prev = (i-10)\n",
    "        filedata = filedata.replace('PREV', str(prev))\n",
    "        # Write the file out again\n",
    "        with open('md_%s_%sns.pbs' % (j,i), 'w') as file:\n",
    "          file.write(filedata)"
   ]
  },
  {
   "cell_type": "code",
   "execution_count": 3,
   "metadata": {},
   "outputs": [],
   "source": [
    "for i in {60,85,110,135,160,185,210,235,260,285,310}:\n",
    "    # Read in the file\n",
    "    with open('md_R104H_BASEns.pbs', 'r') as file :\n",
    "      filedata = file.read()\n",
    "\n",
    "    # Replace the target string\n",
    "    filedata = filedata.replace('BASE', str(i))\n",
    "    prev = (i-25)\n",
    "    filedata = filedata.replace('PREV', str(prev))\n",
    "    # Write the file out again\n",
    "    with open('md_R104H_%sns.pbs' % i, 'w') as file:\n",
    "      file.write(filedata)"
   ]
  },
  {
   "cell_type": "code",
   "execution_count": 4,
   "metadata": {},
   "outputs": [],
   "source": [
    "for i in {60,85,110,135,160,185,210,235,260,285,310}:\n",
    "    # Read in the file\n",
    "    with open('md_L323P_BASEns.pbs', 'r') as file :\n",
    "      filedata = file.read()\n",
    "\n",
    "    # Replace the target string\n",
    "    filedata = filedata.replace('BASE', str(i))\n",
    "    prev = (i-25)\n",
    "    filedata = filedata.replace('PREV', str(prev))\n",
    "    # Write the file out again\n",
    "    with open('md_L323P_%sns.pbs' % i, 'w') as file:\n",
    "      file.write(filedata)"
   ]
  },
  {
   "cell_type": "code",
   "execution_count": 5,
   "metadata": {},
   "outputs": [],
   "source": [
    "for i in {60,85,110,135,160,185,210,235,260,285,310}:\n",
    "    # Read in the file\n",
    "    with open('md_E156K_BASEns.pbs', 'r') as file :\n",
    "      filedata = file.read()\n",
    "\n",
    "    # Replace the target string\n",
    "    filedata = filedata.replace('BASE', str(i))\n",
    "    prev = (i-25)\n",
    "    filedata = filedata.replace('PREV', str(prev))\n",
    "    # Write the file out again\n",
    "    with open('md_E156K_%sns.pbs' % i, 'w') as file:\n",
    "      file.write(filedata)"
   ]
  },
  {
   "cell_type": "code",
   "execution_count": 1,
   "metadata": {},
   "outputs": [],
   "source": [
    "for i in {435,460,485,510}:\n",
    "    # Read in the file\n",
    "    with open('md_ADEL_BASEns.pbs', 'r') as file :\n",
    "      filedata = file.read()\n",
    "\n",
    "    # Replace the target string\n",
    "    filedata = filedata.replace('BASE', str(i))\n",
    "    prev = (i-25)\n",
    "    filedata = filedata.replace('PREV', str(prev))\n",
    "    # Write the file out again\n",
    "    with open('md_ADEL_%sns.pbs' % i, 'w') as file:\n",
    "      file.write(filedata)"
   ]
  },
  {
   "cell_type": "code",
   "execution_count": 2,
   "metadata": {},
   "outputs": [],
   "source": [
    "for i in {435,460,485,510}:\n",
    "    # Read in the file\n",
    "    with open('md_ABEN_BASEns.pbs', 'r') as file :\n",
    "      filedata = file.read()\n",
    "\n",
    "    # Replace the target string\n",
    "    filedata = filedata.replace('BASE', str(i))\n",
    "    prev = (i-25)\n",
    "    filedata = filedata.replace('PREV', str(prev))\n",
    "    # Write the file out again\n",
    "    with open('md_ABEN_%sns.pbs' % i, 'w') as file:\n",
    "      file.write(filedata)"
   ]
  },
  {
   "cell_type": "code",
   "execution_count": null,
   "metadata": {},
   "outputs": [],
   "source": []
  },
  {
   "cell_type": "code",
   "execution_count": 4,
   "metadata": {},
   "outputs": [],
   "source": [
    "for j in {\"ADEL\",\"ABEN\",\"D350H\", \"M212V\",\"R104H\", \"M207T\", \"E156K\", \"L323P\"}:\n",
    "        # Read in the file\n",
    "        with open('queue_2_base.sh', 'r') as file :\n",
    "          filedata = file.read()\n",
    "\n",
    "        # Replace the target string\n",
    "        filedata = filedata.replace('VAR', str(j))\n",
    "        # Write the file out again\n",
    "        with open('queue_410_%s.sh' % j, 'w') as file:\n",
    "          file.write(filedata)"
   ]
  },
  {
   "cell_type": "code",
   "execution_count": null,
   "metadata": {},
   "outputs": [],
   "source": [
    "for j in {\"ADEL\",\"ABEN\",\"D350H\", \"M212V\",\"R104H\", \"M207T\", \"E156K\", \"L323P\"}:\n",
    "        # Read in the file"
   ]
  },
  {
   "cell_type": "code",
   "execution_count": 1,
   "metadata": {},
   "outputs": [],
   "source": [
    "for i in {35,60,85,110,135,160,185,210,235,260,285,310,335,360,385,410,435,460,485,510}:\n",
    "    # Read in the file\n",
    "    with open('md_AMIN_BASEns.pbs', 'r') as file :\n",
    "      filedata = file.read()\n",
    "\n",
    "    # Replace the target string\n",
    "    filedata = filedata.replace('BASE', str(i))\n",
    "    prev = (i-25)\n",
    "    filedata = filedata.replace('PREV', str(prev))\n",
    "    # Write the file out again\n",
    "    with open('md_AMIN_%sns.pbs' % i, 'w') as file:\n",
    "      file.write(filedata)"
   ]
  },
  {
   "cell_type": "code",
   "execution_count": null,
   "metadata": {},
   "outputs": [],
   "source": []
  }
 ],
 "metadata": {
  "kernelspec": {
   "display_name": "Python 3",
   "language": "python",
   "name": "python3"
  },
  "language_info": {
   "codemirror_mode": {
    "name": "ipython",
    "version": 3
   },
   "file_extension": ".py",
   "mimetype": "text/x-python",
   "name": "python",
   "nbconvert_exporter": "python",
   "pygments_lexer": "ipython3",
   "version": "3.8.5"
  }
 },
 "nbformat": 4,
 "nbformat_minor": 4
}
