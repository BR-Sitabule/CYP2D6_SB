{
 "cells": [
  {
   "cell_type": "markdown",
   "metadata": {},
   "source": [
    "# Analysis of the molecular dynamics of CYP2D6\n",
    "\n",
    "The `traj_analysis.py` is cutomized set of classes and functions to do the analysis of the MD trjectories and plot the figures. It needs to be in the same directory of the notebook. "
   ]
  },
  {
   "cell_type": "code",
   "execution_count": 2,
   "metadata": {},
   "outputs": [],
   "source": [
    "%run traj_analysis.py"
   ]
  },
  {
   "cell_type": "markdown",
   "metadata": {},
   "source": [
    "\n",
    "## Loading the data \n",
    "`TRAJHOME` contains subdirectories that contain the trajectories and topologies for each of the analysed variants. \n",
    "We used the crytal structure of CYP2D6 (3tbg) as reference for the calculation `common_ref`  "
   ]
  },
  {
   "cell_type": "code",
   "execution_count": 3,
   "metadata": {},
   "outputs": [],
   "source": [
    "import pytraj as pt\n",
    "import pandas as pd \n",
    "import mdtraj as md\n",
    "import numpy as np\n",
    "import glob\n",
    "import matplotlib.pylab as plt \n",
    "from sklearn.decomposition import PCA\n",
    "import matplotlib.pyplot as plt\n",
    "import pytraj as pt\n",
    "from matplotlib.ticker import (MultipleLocator, FormatStrFormatter, AutoMinorLocator)\n",
    "import matplotlib.cm as cm\n",
    "from scipy.spatial import distance\n",
    "\n",
    "###########################################\n",
    "#   Set these before running the notebook\n",
    "###########################################\n",
    "OUTPUTHOME=\"./CYP2D6_traj_analysis/\"\n",
    "# oath to topology and traj folders and files\n",
    "TRAJHOME=\"/home/bsitabule/lustre/MD_simulations\"\n",
    "#TRAJHOME=\"/mnt/lustre/users/bsitabule/MD_simulations\"\n",
    "REFHOME=\"/home/bsitabule/lustre/MD_simulations/MD_analysis/CYP2D6_ref/new_CYP2D6.pdb\"\n",
    "#REFHOME =\"/mnt/lustre/users/bsitabule/MD_analysis/CYP2D6_ref/new_CYP2D6.pdb\"\n",
    "\n",
    "common_ref = md.load(REFHOME)\n",
    "start=1  \n",
    "# subset of traj\n",
    "\n",
    "# create a subdirectory for PCA within analysis\n",
    "PCAHOME=OUTPUTHOME+\"CYP2D6_data/PCA_test\"\n",
    "DATAHOME=OUTPUTHOME+\"CYP2D6_data/\"\n",
    "\n",
    "import os\n",
    "if  not os.path.exists(OUTPUTHOME) : # create container folder for output  \n",
    "    os.mkdir(OUTPUTHOME)\n",
    "if  not os.path.exists(OUTPUTHOME+\"/CYP2D6_data/\") : # create container for data folder\n",
    "    os.mkdir(OUTPUTHOME+\"/CYP2D6_data/\")\n",
    "if  not os.path.exists(OUTPUTHOME+\"/figures/\") : # create container for figures folder\n",
    "    os.mkdir(OUTPUTHOME+\"/figures/\")"
   ]
  },
  {
   "cell_type": "code",
   "execution_count": 4,
   "metadata": {},
   "outputs": [],
   "source": [
    "# path to traj files \n",
    "WT = TRAJHOME+\"/CYP2D6_wt/CYP2D6_wt_500ns.nc\"\n",
    "l91m = TRAJHOME+\"/CYP2D6_missense_variants/CYP2D6_L91M/Production_L91M_md/CYP2D6_L91M_500ns.nc\"\n",
    "p34s = TRAJHOME+\"/CYP2D6_missense_variants/CYP2D6_P34S/Production_P34S_md/CYP2D6_P34S_500ns.nc\"\n",
    "s486t = TRAJHOME+\"/CYP2D6_missense_variants/CYP2D6_S486T/Production_S486T_md/CYP2D6_S486T_500ns.nc\"\n",
    "y355c = TRAJHOME+\"/CYP2D6_missense_variants/CYP2D6_Y355C/Production_Y355C_md/CYP2D6_Y355C_500ns.nc\"\n",
    "v338m = TRAJHOME+\"/CYP2D6_missense_variants/CYP2D6_V338M/CYP2D6_V338M_500ns.nc\"\n",
    "v104m = TRAJHOME+\"/CYP2D6_missense_variants/CYP2D6_V104M/CYP2D6_V104M_500ns.nc\"\n",
    "v136i = TRAJHOME+\"/CYP2D6_missense_variants/CYP2D6_V136I/CYP2D6_V136I_500ns.nc\"\n",
    "p267h = TRAJHOME+\"/CYP2D6_missense_variants/CYP2D6_P267H/CYP2D6_P267H_500ns.nc\"\n",
    "r365h = TRAJHOME+\"/CYP2D6_missense_variants/CYP2D6_R365H/CYP2D6_R365H_500ns.nc\"\n",
    "t107i = TRAJHOME+\"/CYP2D6_missense_variants/CYP2D6_T107I/CYP2D6_T107I_500ns.nc\"\n",
    "v119l = TRAJHOME+\"/CYP2D6_missense_variants/CYP2D6_V119L/CYP2D6_V119L_500ns.nc\"\n",
    "\n",
    "# path to topology files \n",
    "TOPwt=TRAJHOME+\"/CYP2D6_wt/stripped.CYP2D6_wt_solvated.prmtop\" \n",
    "TOPL91M=TRAJHOME+\"/CYP2D6_missense_variants/CYP2D6_L91M/Production_L91M_md/stripped.CYP2D6_L91M_solvated.prmtop\"\n",
    "TOPP34S=TRAJHOME+\"/CYP2D6_missense_variants/CYP2D6_P34S/Production_P34S_md/stripped.CYP2D6_P34S_solvated.prmtop\"\n",
    "TOPS486T=TRAJHOME+\"/CYP2D6_missense_variants/CYP2D6_S486T/Production_S486T_md/stripped.CYP2D6_S486T_solvated.prmtop\"\n",
    "TOPY355C=TRAJHOME+\"/CYP2D6_missense_variants/CYP2D6_Y355C/Production_Y355C_md/stripped.CYP2D6_Y355C_solvated.prmtop\"\n",
    "TOPV338M=TRAJHOME+\"/CYP2D6_missense_variants/CYP2D6_V338M/stripped.CYP2D6_V338M_solvated.prmtop\"\n",
    "TOPV104M=TRAJHOME+\"/CYP2D6_missense_variants/CYP2D6_V104M/stripped.CYP2D6_V104M_solvated.prmtop\"\n",
    "TOPV136I=TRAJHOME+\"/CYP2D6_missense_variants/CYP2D6_V136I/stripped.CYP2D6_V136I_solvated.prmtop\"\n",
    "TOPP267H=TRAJHOME+\"/CYP2D6_missense_variants/CYP2D6_P267H/stripped.CYP2D6_P267H_solvated.prmtop\"\n",
    "TOPR365H=TRAJHOME+\"/CYP2D6_missense_variants/CYP2D6_R365H/stripped.CYP2D6_R365H_solvated.prmtop\"\n",
    "TOPT107I=TRAJHOME+\"/CYP2D6_missense_variants/CYP2D6_T107I/stripped.CYP2D6_T107I_solvated.prmtop\"\n",
    "TOPV119L=TRAJHOME+\"/CYP2D6_missense_variants/CYP2D6_V119L/stripped.CYP2D6_V119L_solvated.prmtop\"\n",
    "\n",
    "traj_paths = [WT, l91m, p34s, s486t, y355c, v338m, v104m, v136i, p267h, r365h, t107i, v119l]\n",
    "top_files = [ TOPwt, TOPL91M, TOPP34S,  TOPS486T, TOPY355C, TOPV338M, TOPV104M, TOPV136I, TOPP267H, TOPR365H, TOPT107I, TOPV119L]\n",
    "labels = [\"wt\", \"L91M\",\"P34S\", \"S486T\", \"Y355C\", \"V338M\", \"V104M\", \"V136I\", \"P267H\", \"R365H\", \"T107I\", \"V119L\"]"
   ]
  },
  {
   "cell_type": "markdown",
   "metadata": {},
   "source": [
    "# RMSD and RMSF calculations\n"
   ]
  },
  {
   "cell_type": "code",
   "execution_count": null,
   "metadata": {},
   "outputs": [],
   "source": []
  },
  {
   "cell_type": "code",
   "execution_count": 4,
   "metadata": {},
   "outputs": [
    {
     "name": "stdout",
     "output_type": "stream",
     "text": [
      "[   0    4   24 ... 7352 7372 7373]\n",
      "[   0    4   24 ... 7352 7372 7373]\n",
      "[   0    4   24 ... 7350 7370 7371]\n",
      "[   0    4   24 ... 7352 7372 7373]\n",
      "[   0    4   24 ... 7349 7369 7370]\n",
      "[   0    4   24 ... 7352 7372 7373]\n",
      "[   0    4   24 ... 7355 7375 7376]\n",
      "[   0    4   24 ... 7352 7372 7373]\n",
      "[   0    4   24 ... 7342 7362 7363]\n",
      "[   0    4   24 ... 7352 7372 7373]\n",
      "[   0    4   24 ... 7353 7373 7374]\n",
      "[   0    4   24 ... 7352 7372 7373]\n",
      "[   0    4   24 ... 7353 7373 7374]\n",
      "[   0    4   24 ... 7352 7372 7373]\n",
      "[   0    4   24 ... 7355 7375 7376]\n",
      "[   0    4   24 ... 7352 7372 7373]\n",
      "[   0    4   24 ... 7355 7375 7376]\n",
      "[   0    4   24 ... 7352 7372 7373]\n",
      "[   0    4   24 ... 7345 7365 7366]\n",
      "[   0    4   24 ... 7352 7372 7373]\n",
      "[   0    4   24 ... 7357 7377 7378]\n",
      "[   0    4   24 ... 7352 7372 7373]\n",
      "[   0    4   24 ... 7355 7375 7376]\n",
      "[   0    4   24 ... 7352 7372 7373]\n"
     ]
    }
   ],
   "source": [
    "traj_wt = md.load(WT, top=TOPwt)\n",
    "for trajectory,topology,label in  zip(traj_paths, top_files, labels  ) :\n",
    "    mytraj = md.load(trajectory, top=topology)\n",
    "    rmsd = RMSD(mytraj, reference=common_ref)\n",
    "    rmsd.to_csv(OUTPUTHOME+\"/CYP2D6_data/\"+label+\"_RMSD.csv\", index=False)\n",
    "    del rmsd\n",
    "    wt_and_vars_trajs = [traj_wt, mytraj]\n",
    "    rmsf = RmsfCalculation(wt_and_vars_trajs, common_ref, start=start, offset = 5, labels = [\"Ref\", label] )\n",
    "    rmsf.CalculateRmsf()\n",
    "    rmsf.dumpToCsv(output=OUTPUTHOME+\"/CYP2D6_data/\"+label+\"_RMSF.csv\")\n",
    "    del rmsf"
   ]
  },
  {
   "cell_type": "markdown",
   "metadata": {},
   "source": [
    "# Essential dynamics data generation\n",
    "Essential dynamics is conducted in pytraj so we have to re-read the trajectories again. but in an iterative way to avoid the memory overflow. \n"
   ]
  },
  {
   "cell_type": "markdown",
   "metadata": {},
   "source": [
    "### PCA\n",
    "Running PCA analysis by calculating 20 modes (n_vecs=20) using backbone atoms."
   ]
  },
  {
   "cell_type": "code",
   "execution_count": 5,
   "metadata": {},
   "outputs": [
    {
     "data": {
      "text/plain": [
       "0"
      ]
     },
     "execution_count": 5,
     "metadata": {},
     "output_type": "execute_result"
    }
   ],
   "source": [
    "tt=[]\n",
    "len(tt)"
   ]
  },
  {
   "cell_type": "code",
   "execution_count": 6,
   "metadata": {},
   "outputs": [
    {
     "ename": "TypeError",
     "evalue": "'<' not supported between instances of 'list' and 'int'",
     "output_type": "error",
     "traceback": [
      "\u001b[0;31m---------------------------------------------------------------------------\u001b[0m",
      "\u001b[0;31mTypeError\u001b[0m                                 Traceback (most recent call last)",
      "\u001b[0;32m<ipython-input-6-42aaa16a0eca>\u001b[0m in \u001b[0;36m<module>\u001b[0;34m\u001b[0m\n\u001b[1;32m     14\u001b[0m         \u001b[0;32mpass\u001b[0m \u001b[0;31m# the directory is already created\u001b[0m\u001b[0;34m\u001b[0m\u001b[0;34m\u001b[0m\u001b[0m\n\u001b[1;32m     15\u001b[0m     \u001b[0mread\u001b[0m \u001b[0;34m=\u001b[0m \u001b[0mpt\u001b[0m\u001b[0;34m.\u001b[0m\u001b[0mload\u001b[0m\u001b[0;34m(\u001b[0m\u001b[0mtraj\u001b[0m\u001b[0;34m,\u001b[0m \u001b[0mtop\u001b[0m\u001b[0;34m)\u001b[0m\u001b[0;34m\u001b[0m\u001b[0;34m\u001b[0m\u001b[0m\n\u001b[0;32m---> 16\u001b[0;31m     \u001b[0mpca_calculations\u001b[0m \u001b[0;34m=\u001b[0m \u001b[0mpt\u001b[0m\u001b[0;34m.\u001b[0m\u001b[0mpca\u001b[0m\u001b[0;34m(\u001b[0m\u001b[0mread\u001b[0m\u001b[0;34m[\u001b[0m\u001b[0mstart\u001b[0m\u001b[0;34m:\u001b[0m\u001b[0;34m-\u001b[0m\u001b[0;36m1\u001b[0m\u001b[0;34m]\u001b[0m\u001b[0;34m,\u001b[0m \u001b[0mref\u001b[0m\u001b[0;34m=\u001b[0m\u001b[0mreference_crsytal\u001b[0m\u001b[0;34m,\u001b[0m  \u001b[0mmask\u001b[0m\u001b[0;34m=\u001b[0m\u001b[0;34m'@CA,C,N'\u001b[0m\u001b[0;34m,\u001b[0m \u001b[0mn_vecs\u001b[0m\u001b[0;34m=\u001b[0m\u001b[0;34m[\u001b[0m\u001b[0;36m1\u001b[0m\u001b[0;34m,\u001b[0m \u001b[0;36m2\u001b[0m\u001b[0;34m]\u001b[0m\u001b[0;34m)\u001b[0m\u001b[0;34m\u001b[0m\u001b[0;34m\u001b[0m\u001b[0m\n\u001b[0m\u001b[1;32m     17\u001b[0m     \u001b[0mpcs\u001b[0m \u001b[0;34m=\u001b[0m \u001b[0mpca_calculations\u001b[0m\u001b[0;34m[\u001b[0m\u001b[0;36m0\u001b[0m\u001b[0;34m]\u001b[0m\u001b[0;34m\u001b[0m\u001b[0;34m\u001b[0m\u001b[0m\n\u001b[1;32m     18\u001b[0m     \u001b[0mnp\u001b[0m\u001b[0;34m.\u001b[0m\u001b[0msavetxt\u001b[0m\u001b[0;34m(\u001b[0m \u001b[0mdir4traj\u001b[0m\u001b[0;34m+\u001b[0m\u001b[0;34m'/'\u001b[0m\u001b[0;34m+\u001b[0m\u001b[0mlabel\u001b[0m\u001b[0;34m+\u001b[0m\u001b[0;34m\"_pca.txt\"\u001b[0m\u001b[0;34m,\u001b[0m \u001b[0mpcs\u001b[0m\u001b[0;34m,\u001b[0m \u001b[0mfmt\u001b[0m\u001b[0;34m=\u001b[0m\u001b[0;34m\"%.3f\"\u001b[0m\u001b[0;34m)\u001b[0m\u001b[0;34m\u001b[0m\u001b[0;34m\u001b[0m\u001b[0m\n",
      "\u001b[0;32m~/.conda/envs/md_traj/lib/python3.7/site-packages/pytraj/all_actions.py\u001b[0m in \u001b[0;36mpca\u001b[0;34m(traj, mask, n_vecs, fit, ref, ref_mask, dtype, top)\u001b[0m\n\u001b[1;32m   2499\u001b[0m \u001b[0;34m\u001b[0m\u001b[0m\n\u001b[1;32m   2500\u001b[0m     \u001b[0mmat\u001b[0m \u001b[0;34m=\u001b[0m \u001b[0mmatrix\u001b[0m\u001b[0;34m.\u001b[0m\u001b[0mcovar\u001b[0m\u001b[0;34m(\u001b[0m\u001b[0mtraj\u001b[0m\u001b[0;34m,\u001b[0m \u001b[0mmask\u001b[0m\u001b[0;34m)\u001b[0m\u001b[0;34m\u001b[0m\u001b[0;34m\u001b[0m\u001b[0m\n\u001b[0;32m-> 2501\u001b[0;31m     \u001b[0;32mif\u001b[0m \u001b[0mn_vecs\u001b[0m \u001b[0;34m<\u001b[0m \u001b[0;36m0\u001b[0m\u001b[0;34m:\u001b[0m\u001b[0;34m\u001b[0m\u001b[0;34m\u001b[0m\u001b[0m\n\u001b[0m\u001b[1;32m   2502\u001b[0m         \u001b[0mn_vecs\u001b[0m \u001b[0;34m=\u001b[0m \u001b[0mmat\u001b[0m\u001b[0;34m.\u001b[0m\u001b[0mshape\u001b[0m\u001b[0;34m[\u001b[0m\u001b[0;36m0\u001b[0m\u001b[0;34m]\u001b[0m\u001b[0;34m\u001b[0m\u001b[0;34m\u001b[0m\u001b[0m\n\u001b[1;32m   2503\u001b[0m     \u001b[0;32melse\u001b[0m\u001b[0;34m:\u001b[0m\u001b[0;34m\u001b[0m\u001b[0;34m\u001b[0m\u001b[0m\n",
      "\u001b[0;31mTypeError\u001b[0m: '<' not supported between instances of 'list' and 'int'"
     ]
    }
   ],
   "source": [
    "# generating the DCCMs in text file\n",
    "\n",
    "try:\n",
    "    os.mkdir(PCAHOME)\n",
    "except: \n",
    "    pass \n",
    "reference_crsytal = pt.load(REFHOME)\n",
    "\n",
    "for traj, label, top in zip(traj_paths, labels, top_files): \n",
    "    dir4traj = PCAHOME+\"/\"+label\n",
    "    try: \n",
    "        os.mkdir(dir4traj)\n",
    "    except: \n",
    "        pass # the directory is already created\n",
    "    read = pt.load(traj, top)\n",
    "    pca_calculations = pt.pca(read[start:-1], ref=reference_crsytal,  mask='@CA,C,N', n_vecs=20)\n",
    "    pcs = pca_calculations[0]\n",
    "    np.savetxt( dir4traj+'/'+label+\"_pca.txt\", pcs, fmt=\"%.3f\")\n",
    "    eigenvalue = pca_calculations[1][0]\n",
    "    np.savetxt( dir4traj+'/'+label+\"_eigenvalues.txt\", eigenvalue, fmt=\"%.5f\")\n",
    "    eigenvectors = pca_calculations[1][1]\n",
    "    np.savetxt( dir4traj+'/'+label+\"_eigenvectors.txt\", eigenvectors, fmt=\"%.5f\")\n",
    "    del read"
   ]
  }
 ],
 "metadata": {
  "kernelspec": {
   "display_name": "Python 3",
   "language": "python",
   "name": "python3"
  },
  "language_info": {
   "codemirror_mode": {
    "name": "ipython",
    "version": 3
   },
   "file_extension": ".py",
   "mimetype": "text/x-python",
   "name": "python",
   "nbconvert_exporter": "python",
   "pygments_lexer": "ipython3",
   "version": "3.8.5"
  }
 },
 "nbformat": 4,
 "nbformat_minor": 4
}
